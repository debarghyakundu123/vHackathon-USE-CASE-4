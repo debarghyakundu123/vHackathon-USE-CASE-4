{
 "cells": [
  {
   "cell_type": "code",
   "execution_count": 2,
   "id": "5eec9da5",
   "metadata": {},
   "outputs": [
    {
     "ename": "ModuleNotFoundError",
     "evalue": "No module named 'imblearn'",
     "output_type": "error",
     "traceback": [
      "\u001b[1;31m---------------------------------------------------------------------------\u001b[0m",
      "\u001b[1;31mModuleNotFoundError\u001b[0m                       Traceback (most recent call last)",
      "Cell \u001b[1;32mIn[2], line 9\u001b[0m\n\u001b[0;32m      7\u001b[0m \u001b[38;5;28;01mfrom\u001b[39;00m \u001b[38;5;21;01msklearn\u001b[39;00m\u001b[38;5;21;01m.\u001b[39;00m\u001b[38;5;21;01mensemble\u001b[39;00m \u001b[38;5;28;01mimport\u001b[39;00m RandomForestClassifier\n\u001b[0;32m      8\u001b[0m \u001b[38;5;28;01mfrom\u001b[39;00m \u001b[38;5;21;01msklearn\u001b[39;00m\u001b[38;5;21;01m.\u001b[39;00m\u001b[38;5;21;01mmetrics\u001b[39;00m \u001b[38;5;28;01mimport\u001b[39;00m accuracy_score, classification_report, confusion_matrix\n\u001b[1;32m----> 9\u001b[0m \u001b[38;5;28;01mfrom\u001b[39;00m \u001b[38;5;21;01mimblearn\u001b[39;00m\u001b[38;5;21;01m.\u001b[39;00m\u001b[38;5;21;01mover_sampling\u001b[39;00m \u001b[38;5;28;01mimport\u001b[39;00m SMOTE\n\u001b[0;32m     13\u001b[0m \u001b[38;5;66;03m# Ensure all necessary libraries are installed\u001b[39;00m\n\u001b[0;32m     14\u001b[0m \u001b[38;5;28;01mtry\u001b[39;00m:\n",
      "\u001b[1;31mModuleNotFoundError\u001b[0m: No module named 'imblearn'"
     ]
    }
   ],
   "source": [
    "import pandas as pd\n",
    "import numpy as np\n",
    "import matplotlib.pyplot as plt\n",
    "import seaborn as sns\n",
    "from sklearn.model_selection import train_test_split, GridSearchCV\n",
    "from sklearn.preprocessing import StandardScaler, LabelEncoder\n",
    "from sklearn.ensemble import RandomForestClassifier\n",
    "from sklearn.metrics import accuracy_score, classification_report, confusion_matrix\n",
    "from imblearn.over_sampling import SMOTE\n",
    "\n",
    "\n",
    "\n",
    "# Ensure all necessary libraries are installed\n",
    "try:\n",
    "    import micropip\n",
    "except ModuleNotFoundError:\n",
    "    print(\"Warning: micropip module not found. Please check your environment setup.\")\n",
    "\n",
    "    \n",
    "# Load datasets\n",
    "print(\"Loading datasets...\")\n",
    "admissions = pd.read_csv(\"/readmission/admissions_202208161605.csv\")\n",
    "diagnoses = pd.read_csv(\"/readmission/diagnoses_icd_202208161605.csv\")\n",
    "drgs = pd.read_csv(\"/readmission/drgcodes_202208161605.csv\")\n",
    "cptevents = pd.read_csv(\"/readmission/cptevents_202208161605.csv\")\n",
    "labitems = pd.read_csv(\"/readmission/d_labitems_202208161605.csv\")\n",
    "labevents = pd.read_csv(\"/readmission/labevents_202208161605.csv\")\n",
    "patients = pd.read_csv(\"/readmission/patients_202208161605.csv\")\n",
    "procedures_icd = pd.read_csv(\"/readmission/procedures_icd_202208161605.csv\")"
   ]
  },
  {
   "cell_type": "code",
   "execution_count": null,
   "id": "95afb736",
   "metadata": {},
   "outputs": [],
   "source": []
  },
  {
   "cell_type": "code",
   "execution_count": null,
   "id": "44f9dd92",
   "metadata": {},
   "outputs": [],
   "source": []
  },
  {
   "cell_type": "code",
   "execution_count": null,
   "id": "e7415371",
   "metadata": {},
   "outputs": [],
   "source": []
  }
 ],
 "metadata": {
  "kernelspec": {
   "display_name": "Python 3",
   "language": "python",
   "name": "python3"
  },
  "language_info": {
   "codemirror_mode": {
    "name": "ipython",
    "version": 3
   },
   "file_extension": ".py",
   "mimetype": "text/x-python",
   "name": "python",
   "nbconvert_exporter": "python",
   "pygments_lexer": "ipython3",
   "version": "3.12.2"
  }
 },
 "nbformat": 4,
 "nbformat_minor": 5
}
